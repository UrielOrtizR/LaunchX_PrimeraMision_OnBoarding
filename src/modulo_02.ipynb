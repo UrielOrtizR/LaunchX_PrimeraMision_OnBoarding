{
 "cells": [
  {
   "cell_type": "markdown",
   "metadata": {},
   "source": [
    "~~~\n",
    "python -m venv venv\n",
    ".\\venv\\Scripts\\activate\n",
    "pip freeze\n",
    "pip install python-dateutil\n",
    "pip freeze\n",
    "deactivate\n",
    "~~~"
   ]
  }
 ],
 "metadata": {
  "interpreter": {
   "hash": "4edd64184c15bd9f6578db6c8848f94529cf01ed6b5ed265fb676f15f7c81b1d"
  },
  "kernelspec": {
   "display_name": "Python 3.10.1 ('venv': venv)",
   "language": "python",
   "name": "python3"
  },
  "language_info": {
   "name": "python",
   "version": "3.10.1"
  },
  "orig_nbformat": 4
 },
 "nbformat": 4,
 "nbformat_minor": 2
}
